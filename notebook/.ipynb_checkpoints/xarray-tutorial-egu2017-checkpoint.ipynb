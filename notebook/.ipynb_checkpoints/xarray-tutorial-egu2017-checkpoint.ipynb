{
 "cells": [
  {
   "cell_type": "markdown",
   "metadata": {
    "deletable": true,
    "editable": true
   },
   "source": [
    "# [SC57 - Working with big, multi-dimensional geoscientific datasets in Python: a tutorial introduction to xarray](http://meetingorganizer.copernicus.org/EGU2017/session/25651)  \n",
    "  \n",
    "  \n",
    "Original notebook by [Stephan Hoyer](http://stephanhoyer.com), Rossbypalooza, 2016.  \n",
    "Modified by Edward Byers, Matthew Gidden and [Fabien Maussion](http://fabienmaussion.info/) for EGU General Assembly 2017, Vienna, Austria\n",
    "\n",
    "\n",
    "  \n",
    "  Thursday, 27th April, 15:30–17:00 / Room -2.91  \n",
    "  \n",
    "  \n",
    "**Convenors**\n",
    "* [Dr Edward Byers](byers@iiasa.ac.at)    - International Institute for Applied Systems Analysis, Laxenburg, Austria\n",
    "* [Dr Matthew Gidden](gidden@iiasa.ac.at)  - International Institute for Applied Systems Analysis, Laxenburg, Austria\n",
    "* [Dr Fabien Maussion](fabien.maussion@uibk.ac.at) - University of Innsbruck, Innsbruck, Austria\n",
    "-------------\n",
    "\n"
   ]
  },
  {
   "cell_type": "markdown",
   "metadata": {},
   "source": [
    "![](./figures/dataset-diagram-logo.png)"
   ]
  },
  {
   "cell_type": "markdown",
   "metadata": {
    "deletable": true,
    "editable": true
   },
   "source": [
    "# Structure of this talk\n",
    "\n",
    "1. Introduction to key features of `xarray`\n",
    "2. Basic operations in xarray: opening, inspecting, selecting and indexing data\n",
    "3. Working with multiple datasets and computation\n",
    "4. Introduction to out-of-core computation\n",
    "5. Working with `pandas` and other packages (`Salem`?)\n",
    "\n",
    "\n"
   ]
  },
  {
   "cell_type": "markdown",
   "metadata": {
    "deletable": true,
    "editable": true
   },
   "source": [
    "# 1. Key features of `xarray`"
   ]
  },
  {
   "cell_type": "markdown",
   "metadata": {
    "deletable": true,
    "editable": true
   },
   "source": [
    "## What is `xarray`?"
   ]
  },
  {
   "cell_type": "markdown",
   "metadata": {
    "deletable": true,
    "editable": true
   },
   "source": [
    "*  `xarray` is an open source project and Python package\n",
    "*  `xarray` has been designed to perform labelled data analysis on multi-dimensional arrays\n",
    "* the xarray approach adopts the Common Data Model for self- describing scientific data in widespread use in the Earth sciences\n",
    "*  `xarray.Dataset` is an in-memory representation of a netCDF file."
   ]
  },
  {
   "cell_type": "markdown",
   "metadata": {
    "deletable": true,
    "editable": true
   },
   "source": [
    "## What is `xarray` good for?"
   ]
  },
  {
   "cell_type": "markdown",
   "metadata": {
    "deletable": true,
    "editable": true
   },
   "source": [
    "* Gridded, multi-dimensional and large datasets, commonly used in earth sciences, but also increasingly finance and biological sciences\n",
    "* Out of core computation and parallel processing\n",
    "...(others?!)"
   ]
  },
  {
   "cell_type": "markdown",
   "metadata": {
    "deletable": true,
    "editable": true
   },
   "source": [
    "## Where can I find more info?\n",
    "This notebook introduces xarray for new users in the geophysical sciences.\n",
    "\n",
    "### For more information about xarray\n",
    "\n",
    "- Read the [online documentation](http://xarray.pydata.org/)\n",
    "- Ask questions on [StackOverflow](http://stackoverflow.com/questions/tagged/python-xarray)\n",
    "- View the source code and file bug reports on [GitHub](http://github.com/pydata/xarray/)\n",
    "\n",
    "### For more doing data analysis with Python:\n",
    "\n",
    "- Thomas Wiecki, [A modern guide to getting started with Data Science and Python](http://twiecki.github.io/blog/2014/11/18/python-for-data-science/)\n",
    "- Wes McKinney, [Python for Data Analysis](http://shop.oreilly.com/product/0636920023784.do) (book)\n",
    "\n",
    "### Packages building on xarray for the geophysical sciences\n",
    "\n",
    "For analyzing GCM output:\n",
    "\n",
    "- [xgcm](https://github.com/xgcm/xgcm) by Ryan Abernathey\n",
    "- [oogcm](https://github.com/lesommer/oocgcm) by Julien Le Sommer\n",
    "- [MPAS xarray](https://github.com/pwolfram/mpas_xarray) by Phil Wolfram\n",
    "- [marc_analysis](https://github.com/darothen/marc_analysis) by Daniel Rothenberg\n",
    "\n",
    "Other tools:\n",
    "\n",
    "- [windspharm](https://github.com/ajdawson/windspharm): wind spherical harmonics by Andrew Dawson\n",
    "- [eofs](https://github.com/ajdawson/eofs): empirical orthogonal functions by Andrew Dawson\n",
    "- [infinite-diff](https://github.com/spencerahill/infinite-diff) by Spencer Hill \n",
    "- [aospy](https://github.com/spencerahill/aospy) by Spencer Hill and Spencer Clark\n",
    "\n",
    "Resources for teaching and learning xarray in geosciences:\n",
    "- [Fabien's teaching repo](https://github.com/fmaussion/teaching): courses that combine teaching climatology and xarray\n"
   ]
  },
  {
   "cell_type": "markdown",
   "metadata": {
    "deletable": true,
    "editable": true
   },
   "source": [
    "# 2. Basic operations in `xarray`"
   ]
  },
  {
   "cell_type": "markdown",
   "metadata": {
    "deletable": true,
    "editable": true
   },
   "source": [
    "-------------------\n",
    "\n",
    "## Import packages"
   ]
  },
  {
   "cell_type": "code",
   "execution_count": 10,
   "metadata": {
    "collapsed": false,
    "deletable": true,
    "editable": true
   },
   "outputs": [],
   "source": [
    "# standard imports\n",
    "import numpy as np\n",
    "import pandas as pd\n",
    "import matplotlib.pyplot as plt\n",
    "import xarray as xr\n",
    "\n",
    "%matplotlib inline\n",
    "\n",
    "# np.set_printoptions(precision=3, linewidth=80, edgeitems=1)  # make numpy less verbose\n",
    "# xr.set_options(line_width=70)"
   ]
  },
  {
   "cell_type": "markdown",
   "metadata": {
    "deletable": true,
    "editable": true
   },
   "source": [
    "## Basic data arrays in numpy"
   ]
  },
  {
   "cell_type": "code",
   "execution_count": 11,
   "metadata": {
    "collapsed": false,
    "deletable": true,
    "editable": true
   },
   "outputs": [
    {
     "data": {
      "text/plain": [
       "array([[1, 3, 9],\n",
       "       [2, 8, 4]])"
      ]
     },
     "execution_count": 11,
     "metadata": {},
     "output_type": "execute_result"
    }
   ],
   "source": [
    "import numpy as np\n",
    "a = np.array([[1, 3, 9], [2, 8, 4]])\n",
    "a"
   ]
  },
  {
   "cell_type": "code",
   "execution_count": 12,
   "metadata": {
    "collapsed": false,
    "deletable": true,
    "editable": true
   },
   "outputs": [
    {
     "data": {
      "text/plain": [
       "4"
      ]
     },
     "execution_count": 12,
     "metadata": {},
     "output_type": "execute_result"
    }
   ],
   "source": [
    "a[1, 2]"
   ]
  },
  {
   "cell_type": "code",
   "execution_count": 13,
   "metadata": {
    "collapsed": false,
    "deletable": true,
    "editable": true
   },
   "outputs": [
    {
     "data": {
      "text/plain": [
       "array([ 1.5,  5.5,  6.5])"
      ]
     },
     "execution_count": 13,
     "metadata": {},
     "output_type": "execute_result"
    }
   ],
   "source": [
    "a.mean(axis=0)"
   ]
  },
  {
   "cell_type": "code",
   "execution_count": null,
   "metadata": {
    "collapsed": true,
    "deletable": true,
    "editable": true
   },
   "outputs": [],
   "source": []
  },
  {
   "cell_type": "markdown",
   "metadata": {
    "collapsed": false,
    "deletable": true,
    "editable": true
   },
   "source": [
    "# Our data\n",
    "\n",
    "<img src=\"./figures/dataset.png\" width=\"50%\" align=\"right\"> \n",
    "\n",
    "- numeric\n",
    "- multi-dimensional\n",
    "- labelled\n",
    "- (lots of) metadata\n",
    "- sometimes (very) large"
   ]
  },
  {
   "cell_type": "markdown",
   "metadata": {
    "deletable": true,
    "editable": true
   },
   "source": [
    "#### `xarray.Dataset` is a container for multiple `xarray.DataArray` objects"
   ]
  },
  {
   "cell_type": "markdown",
   "metadata": {
    "deletable": true,
    "editable": true
   },
   "source": [
    "We'll start with the \"air_temperature\" tutorial dataset:"
   ]
  },
  {
   "cell_type": "code",
   "execution_count": 14,
   "metadata": {
    "collapsed": false,
    "deletable": true,
    "editable": true
   },
   "outputs": [],
   "source": [
    "ds = xr.tutorial.load_dataset('air_temperature')"
   ]
  },
  {
   "cell_type": "code",
   "execution_count": 17,
   "metadata": {
    "collapsed": false,
    "deletable": true,
    "editable": true
   },
   "outputs": [
    {
     "data": {
      "text/plain": [
       "<xarray.Dataset>\n",
       "Dimensions:  (lat: 25, lon: 53, time: 2920)\n",
       "Coordinates:\n",
       "  * lat      (lat) float32 75.0 72.5 70.0 67.5 65.0 62.5 60.0 57.5 55.0 52.5 ...\n",
       "  * lon      (lon) float32 200.0 202.5 205.0 207.5 210.0 212.5 215.0 217.5 ...\n",
       "  * time     (time) datetime64[ns] 2013-01-01 2013-01-01T06:00:00 ...\n",
       "Data variables:\n",
       "    air      (time, lat, lon) float64 241.2 242.5 243.5 244.0 244.1 243.9 ...\n",
       "Attributes:\n",
       "    Conventions: COARDS\n",
       "    title: 4x daily NMC reanalysis (1948)\n",
       "    description: Data is from NMC initialized reanalysis\n",
       "(4x/day).  These are the 0.9950 sigma level values.\n",
       "    platform: Model\n",
       "    references: http://www.esrl.noaa.gov/psd/data/gridded/data.ncep.reanalysis.html"
      ]
     },
     "execution_count": 17,
     "metadata": {},
     "output_type": "execute_result"
    }
   ],
   "source": [
    "ds"
   ]
  },
  {
   "cell_type": "code",
   "execution_count": 18,
   "metadata": {
    "collapsed": false,
    "deletable": true,
    "editable": true
   },
   "outputs": [
    {
     "data": {
      "text/plain": [
       "<xarray.DataArray 'air' (time: 2920, lat: 25, lon: 53)>\n",
       "array([[[ 241.2 ,  242.5 , ...,  235.5 ,  238.6 ],\n",
       "        [ 243.8 ,  244.5 , ...,  235.3 ,  239.3 ],\n",
       "        ..., \n",
       "        [ 295.9 ,  296.2 , ...,  295.9 ,  295.2 ],\n",
       "        [ 296.29,  296.79, ...,  296.79,  296.6 ]],\n",
       "\n",
       "       [[ 242.1 ,  242.7 , ...,  233.6 ,  235.8 ],\n",
       "        [ 243.6 ,  244.1 , ...,  232.5 ,  235.7 ],\n",
       "        ..., \n",
       "        [ 296.2 ,  296.7 , ...,  295.5 ,  295.1 ],\n",
       "        [ 296.29,  297.2 , ...,  296.4 ,  296.6 ]],\n",
       "\n",
       "       ..., \n",
       "       [[ 245.79,  244.79, ...,  243.99,  244.79],\n",
       "        [ 249.89,  249.29, ...,  242.49,  244.29],\n",
       "        ..., \n",
       "        [ 296.29,  297.19, ...,  295.09,  294.39],\n",
       "        [ 297.79,  298.39, ...,  295.49,  295.19]],\n",
       "\n",
       "       [[ 245.09,  244.29, ...,  241.49,  241.79],\n",
       "        [ 249.89,  249.29, ...,  240.29,  241.69],\n",
       "        ..., \n",
       "        [ 296.09,  296.89, ...,  295.69,  295.19],\n",
       "        [ 297.69,  298.09, ...,  296.19,  295.69]]])\n",
       "Coordinates:\n",
       "  * lat      (lat) float32 75.0 72.5 70.0 67.5 65.0 62.5 60.0 57.5 55.0 52.5 ...\n",
       "  * lon      (lon) float32 200.0 202.5 205.0 207.5 210.0 212.5 215.0 217.5 ...\n",
       "  * time     (time) datetime64[ns] 2013-01-01 2013-01-01T06:00:00 ...\n",
       "Attributes:\n",
       "    long_name: 4xDaily Air temperature at sigma level 995\n",
       "    units: degK\n",
       "    precision: 2\n",
       "    GRIB_id: 11\n",
       "    GRIB_name: TMP\n",
       "    var_desc: Air temperature\n",
       "    dataset: NMC Reanalysis\n",
       "    level_desc: Surface\n",
       "    statistic: Individual Obs\n",
       "    parent_stat: Other\n",
       "    actual_range: [ 185.16000366  322.1000061 ]"
      ]
     },
     "execution_count": 18,
     "metadata": {},
     "output_type": "execute_result"
    }
   ],
   "source": [
    "ds.air"
   ]
  },
  {
   "cell_type": "code",
   "execution_count": 19,
   "metadata": {
    "collapsed": false,
    "deletable": true,
    "editable": true
   },
   "outputs": [
    {
     "data": {
      "text/plain": [
       "Frozen(SortedKeysDict({u'lat': 25, u'lon': 53, u'time': 2920}))"
      ]
     },
     "execution_count": 19,
     "metadata": {},
     "output_type": "execute_result"
    }
   ],
   "source": [
    "ds.dims"
   ]
  },
  {
   "cell_type": "code",
   "execution_count": 20,
   "metadata": {
    "collapsed": false,
    "deletable": true,
    "editable": true
   },
   "outputs": [
    {
     "data": {
      "text/plain": [
       "OrderedDict([(u'Conventions', u'COARDS'), (u'title', u'4x daily NMC reanalysis (1948)'), (u'description', u'Data is from NMC initialized reanalysis\\n(4x/day).  These are the 0.9950 sigma level values.'), (u'platform', u'Model'), (u'references', u'http://www.esrl.noaa.gov/psd/data/gridded/data.ncep.reanalysis.html')])"
      ]
     },
     "execution_count": 20,
     "metadata": {},
     "output_type": "execute_result"
    }
   ],
   "source": [
    "ds.attrs"
   ]
  },
  {
   "cell_type": "code",
   "execution_count": 22,
   "metadata": {
    "collapsed": false,
    "deletable": true,
    "editable": true
   },
   "outputs": [
    {
     "data": {
      "text/plain": [
       "numpy.ndarray"
      ]
     },
     "execution_count": 22,
     "metadata": {},
     "output_type": "execute_result"
    }
   ],
   "source": [
    "ds.air.values  #type()"
   ]
  },
  {
   "cell_type": "code",
   "execution_count": 23,
   "metadata": {
    "collapsed": false,
    "deletable": true,
    "editable": true
   },
   "outputs": [
    {
     "data": {
      "text/plain": [
       "(u'time', u'lat', u'lon')"
      ]
     },
     "execution_count": 23,
     "metadata": {},
     "output_type": "execute_result"
    }
   ],
   "source": [
    "ds.air.dims"
   ]
  },
  {
   "cell_type": "code",
   "execution_count": 24,
   "metadata": {
    "collapsed": false,
    "deletable": true,
    "editable": true
   },
   "outputs": [
    {
     "data": {
      "text/plain": [
       "OrderedDict([(u'long_name', u'4xDaily Air temperature at sigma level 995'), (u'units', u'degK'), (u'precision', 2), (u'GRIB_id', 11), (u'GRIB_name', u'TMP'), (u'var_desc', u'Air temperature'), (u'dataset', u'NMC Reanalysis'), (u'level_desc', u'Surface'), (u'statistic', u'Individual Obs'), (u'parent_stat', u'Other'), (u'actual_range', array([ 185.16000366,  322.1000061 ], dtype=float32))])"
      ]
     },
     "execution_count": 24,
     "metadata": {},
     "output_type": "execute_result"
    }
   ],
   "source": [
    "ds.air.attrs"
   ]
  },
  {
   "cell_type": "code",
   "execution_count": 27,
   "metadata": {
    "collapsed": false,
    "deletable": true,
    "editable": true
   },
   "outputs": [],
   "source": [
    "ds.air.attrs['tutorial-date']=24042017"
   ]
  },
  {
   "cell_type": "code",
   "execution_count": 28,
   "metadata": {
    "collapsed": false,
    "deletable": true,
    "editable": true
   },
   "outputs": [
    {
     "data": {
      "text/plain": [
       "OrderedDict([(u'long_name', u'4xDaily Air temperature at sigma level 995'), (u'units', u'degK'), (u'precision', 2), (u'GRIB_id', 11), (u'GRIB_name', u'TMP'), (u'var_desc', u'Air temperature'), (u'dataset', u'NMC Reanalysis'), (u'level_desc', u'Surface'), (u'statistic', u'Individual Obs'), (u'parent_stat', u'Other'), (u'actual_range', array([ 185.16000366,  322.1000061 ], dtype=float32)), ('tutorial', 24102016), ('tutorial-date', 24042017)])"
      ]
     },
     "execution_count": 28,
     "metadata": {},
     "output_type": "execute_result"
    }
   ],
   "source": [
    "ds.air.attrs"
   ]
  },
  {
   "cell_type": "markdown",
   "metadata": {
    "deletable": true,
    "editable": true
   },
   "source": [
    "## xarray.Datasets with multiple variables"
   ]
  },
  {
   "cell_type": "code",
   "execution_count": null,
   "metadata": {
    "collapsed": false,
    "deletable": true,
    "editable": true
   },
   "outputs": [],
   "source": [
    "f = 'ERA-Int-MonthlyAvg-4D-TUVWZ.nc'\n",
    "dse = xr.open_dataset(f)\n",
    "dse"
   ]
  },
  {
   "cell_type": "markdown",
   "metadata": {
    "deletable": true,
    "editable": true
   },
   "source": [
    "## Selecting data with named dimensions\n",
    "In xarray there are many different ways for selecting and indexing data"
   ]
  },
  {
   "cell_type": "code",
   "execution_count": 39,
   "metadata": {
    "collapsed": false,
    "deletable": true,
    "editable": true
   },
   "outputs": [
    {
     "ename": "NameError",
     "evalue": "name 'dse' is not defined",
     "output_type": "error",
     "traceback": [
      "\u001b[0;31m---------------------------------------------------------------------------\u001b[0m",
      "\u001b[0;31mNameError\u001b[0m                                 Traceback (most recent call last)",
      "\u001b[0;32m<ipython-input-39-17c6d2b30310>\u001b[0m in \u001b[0;36m<module>\u001b[0;34m()\u001b[0m\n\u001b[0;32m----> 1\u001b[0;31m \u001b[0mdse\u001b[0m\u001b[1;33m.\u001b[0m\u001b[0mt\u001b[0m\u001b[1;33m\u001b[0m\u001b[0m\n\u001b[0m",
      "\u001b[0;31mNameError\u001b[0m: name 'dse' is not defined"
     ]
    }
   ],
   "source": [
    "dse.t"
   ]
  },
  {
   "cell_type": "markdown",
   "metadata": {
    "deletable": true,
    "editable": true
   },
   "source": [
    "### By value"
   ]
  },
  {
   "cell_type": "code",
   "execution_count": 40,
   "metadata": {
    "collapsed": false,
    "deletable": true,
    "editable": true
   },
   "outputs": [
    {
     "ename": "NameError",
     "evalue": "name 'dse' is not defined",
     "output_type": "error",
     "traceback": [
      "\u001b[0;31m---------------------------------------------------------------------------\u001b[0m",
      "\u001b[0;31mNameError\u001b[0m                                 Traceback (most recent call last)",
      "\u001b[0;32m<ipython-input-40-827839f256a9>\u001b[0m in \u001b[0;36m<module>\u001b[0;34m()\u001b[0m\n\u001b[0;32m----> 1\u001b[0;31m \u001b[0mdse\u001b[0m\u001b[1;33m.\u001b[0m\u001b[0mt\u001b[0m\u001b[1;33m.\u001b[0m\u001b[0msel\u001b[0m\u001b[1;33m(\u001b[0m\u001b[0mmonth\u001b[0m\u001b[1;33m=\u001b[0m\u001b[1;36m8\u001b[0m\u001b[1;33m,\u001b[0m \u001b[0mlevel\u001b[0m\u001b[1;33m=\u001b[0m\u001b[1;36m200\u001b[0m\u001b[1;33m)\u001b[0m\u001b[1;33m\u001b[0m\u001b[0m\n\u001b[0m",
      "\u001b[0;31mNameError\u001b[0m: name 'dse' is not defined"
     ]
    }
   ],
   "source": [
    "dse.t.sel(month=8, level=200)"
   ]
  },
  {
   "cell_type": "markdown",
   "metadata": {
    "deletable": true,
    "editable": true
   },
   "source": [
    "### By index"
   ]
  },
  {
   "cell_type": "code",
   "execution_count": null,
   "metadata": {
    "collapsed": true,
    "deletable": true,
    "editable": true
   },
   "outputs": [],
   "source": [
    "dse.t.sel(month=7, level=3)"
   ]
  },
  {
   "cell_type": "code",
   "execution_count": null,
   "metadata": {
    "collapsed": true,
    "deletable": true,
    "editable": true
   },
   "outputs": [],
   "source": []
  },
  {
   "cell_type": "markdown",
   "metadata": {
    "deletable": true,
    "editable": true
   },
   "source": [
    "### Works well for lat, lon and time, too"
   ]
  },
  {
   "cell_type": "code",
   "execution_count": 29,
   "metadata": {
    "collapsed": false,
    "deletable": true,
    "editable": true
   },
   "outputs": [
    {
     "data": {
      "text/plain": [
       "<xarray.DataArray 'air' (time: 4, lat: 25, lon: 53)>\n",
       "array([[[ 243.2 ,  243.1 , ...,  238.8 ,  240.89],\n",
       "        [ 246.39,  245.3 , ...,  234.89,  237.2 ],\n",
       "        ..., \n",
       "        [ 297.29,  297.4 , ...,  296.5 ,  296.29],\n",
       "        [ 297.79,  298.1 , ...,  297.4 ,  297.4 ]],\n",
       "\n",
       "       [[ 244.1 ,  243.8 , ...,  239.3 ,  242.  ],\n",
       "        [ 247.8 ,  246.8 , ...,  235.5 ,  237.8 ],\n",
       "        ..., \n",
       "        [ 297.4 ,  297.  , ...,  296.4 ,  296.1 ],\n",
       "        [ 297.5 ,  297.6 , ...,  296.5 ,  296.9 ]],\n",
       "\n",
       "       [[ 243.3 ,  243.3 , ...,  242.39,  244.8 ],\n",
       "        [ 249.5 ,  249.  , ...,  238.3 ,  240.1 ],\n",
       "        ..., \n",
       "        [ 296.7 ,  296.29, ...,  296.9 ,  296.2 ],\n",
       "        [ 297.7 ,  297.29, ...,  296.9 ,  297.1 ]],\n",
       "\n",
       "       [[ 243.8 ,  243.8 , ...,  242.7 ,  244.6 ],\n",
       "        [ 247.6 ,  247.7 , ...,  237.7 ,  239.3 ],\n",
       "        ..., \n",
       "        [ 297.1 ,  296.5 , ...,  297.29,  296.29],\n",
       "        [ 297.79,  297.1 , ...,  297.79,  297.6 ]]])\n",
       "Coordinates:\n",
       "  * lat      (lat) float32 75.0 72.5 70.0 67.5 65.0 62.5 60.0 57.5 55.0 52.5 ...\n",
       "  * lon      (lon) float32 200.0 202.5 205.0 207.5 210.0 212.5 215.0 217.5 ...\n",
       "  * time     (time) datetime64[ns] 2013-01-02 2013-01-02T06:00:00 ...\n",
       "Attributes:\n",
       "    long_name: 4xDaily Air temperature at sigma level 995\n",
       "    units: degK\n",
       "    precision: 2\n",
       "    GRIB_id: 11\n",
       "    GRIB_name: TMP\n",
       "    var_desc: Air temperature\n",
       "    dataset: NMC Reanalysis\n",
       "    level_desc: Surface\n",
       "    statistic: Individual Obs\n",
       "    parent_stat: Other\n",
       "    actual_range: [ 185.16000366  322.1000061 ]\n",
       "    tutorial: 24102016\n",
       "    tutorial-date: 24042017"
      ]
     },
     "execution_count": 29,
     "metadata": {},
     "output_type": "execute_result"
    }
   ],
   "source": [
    "ds.air.sel(time='2013-01-02')"
   ]
  },
  {
   "cell_type": "code",
   "execution_count": 30,
   "metadata": {
    "collapsed": false,
    "deletable": true,
    "editable": true
   },
   "outputs": [
    {
     "data": {
      "text/plain": [
       "<xarray.DataArray 'air' (lat: 25, lon: 53)>\n",
       "array([[ 244.1 ,  243.8 ,  243.5 , ...,  237.2 ,  239.3 ,  242.  ],\n",
       "       [ 247.8 ,  246.8 ,  245.5 , ...,  234.5 ,  235.5 ,  237.8 ],\n",
       "       [ 253.8 ,  251.89,  249.8 , ...,  237.7 ,  239.  ,  242.  ],\n",
       "       ..., \n",
       "       [ 296.1 ,  295.29,  295.2 , ...,  295.6 ,  295.7 ,  295.  ],\n",
       "       [ 297.4 ,  297.  ,  296.1 , ...,  296.2 ,  296.4 ,  296.1 ],\n",
       "       [ 297.5 ,  297.6 ,  297.1 , ...,  296.6 ,  296.5 ,  296.9 ]])\n",
       "Coordinates:\n",
       "  * lat      (lat) float32 75.0 72.5 70.0 67.5 65.0 62.5 60.0 57.5 55.0 52.5 ...\n",
       "  * lon      (lon) float32 200.0 202.5 205.0 207.5 210.0 212.5 215.0 217.5 ...\n",
       "    time     datetime64[ns] 2013-01-02T06:00:00\n",
       "Attributes:\n",
       "    long_name: 4xDaily Air temperature at sigma level 995\n",
       "    units: degK\n",
       "    precision: 2\n",
       "    GRIB_id: 11\n",
       "    GRIB_name: TMP\n",
       "    var_desc: Air temperature\n",
       "    dataset: NMC Reanalysis\n",
       "    level_desc: Surface\n",
       "    statistic: Individual Obs\n",
       "    parent_stat: Other\n",
       "    actual_range: [ 185.16000366  322.1000061 ]\n",
       "    tutorial: 24102016\n",
       "    tutorial-date: 24042017"
      ]
     },
     "execution_count": 30,
     "metadata": {},
     "output_type": "execute_result"
    }
   ],
   "source": [
    "ds.air.sel(time='2013-01-02T06:00:00')"
   ]
  },
  {
   "cell_type": "code",
   "execution_count": 32,
   "metadata": {
    "collapsed": false,
    "deletable": true,
    "editable": true
   },
   "outputs": [
    {
     "data": {
      "text/plain": [
       "<matplotlib.collections.QuadMesh at 0xa262dd8>"
      ]
     },
     "execution_count": 32,
     "metadata": {},
     "output_type": "execute_result"
    },
    {
     "data": {
      "image/png": "[encoded data removed]",
      "text/plain": [
       "<matplotlib.figure.Figure at 0xa169ef0>"
      ]
     },
     "metadata": {},
     "output_type": "display_data"
    }
   ],
   "source": [
    "ds.air.sel(time='2013-01-02')[2]#.plot()"
   ]
  },
  {
   "cell_type": "code",
   "execution_count": 34,
   "metadata": {
    "collapsed": false,
    "deletable": true,
    "editable": true
   },
   "outputs": [
    {
     "data": {
      "text/plain": [
       "(array([    692.,   10077.,   21565.,   27267.,   39600.,   83332.,\n",
       "         144063.,   81944.,   13998.,     862.]),\n",
       " array([ 231.5,  239.1,  246.7,  254.3,  261.9,  269.5,  277.1,  284.7,\n",
       "         292.3,  299.9,  307.5]),\n",
       " <a list of 10 Patch objects>)"
      ]
     },
     "execution_count": 34,
     "metadata": {},
     "output_type": "execute_result"
    },
    {
     "data": {
      "image/png": "[encoded data removed]",
      "text/plain": [
       "<matplotlib.figure.Figure at 0xa577b00>"
      ]
     },
     "metadata": {},
     "output_type": "display_data"
    }
   ],
   "source": [
    "ds.air.sel(lat=slice(60, 50), lon=slice(200, 270))#.plot()"
   ]
  },
  {
   "cell_type": "code",
   "execution_count": 36,
   "metadata": {
    "collapsed": false,
    "deletable": true,
    "editable": true
   },
   "outputs": [
    {
     "data": {
      "text/plain": [
       "[<matplotlib.lines.Line2D at 0xa02fa58>]"
      ]
     },
     "execution_count": 36,
     "metadata": {},
     "output_type": "execute_result"
    },
    {
     "data": {
      "image/png": "[encoded data removed]",
      "text/plain": [
       "<matplotlib.figure.Figure at 0xa626c18>"
      ]
     },
     "metadata": {},
     "output_type": "display_data"
    }
   ],
   "source": [
    "ds.air.sel(lat=41.8781, lon=360-87.6298, method='nearest', tolerance=5).plot()"
   ]
  },
  {
   "cell_type": "markdown",
   "metadata": {
    "deletable": true,
    "editable": true
   },
   "source": [
    "# 3. Operations and computation\n",
    "\n",
    "* We can do arithmetic directly on `Dataset` and `DataArray` objects. \n",
    "* Labels are preserved and dataArray dimensions automatically aligned.\n",
    "* We can open multiple datasets easily"
   ]
  },
  {
   "cell_type": "code",
   "execution_count": null,
   "metadata": {
    "collapsed": true,
    "deletable": true,
    "editable": true
   },
   "outputs": [],
   "source": []
  },
  {
   "cell_type": "markdown",
   "metadata": {
    "collapsed": true,
    "deletable": true,
    "editable": true
   },
   "source": [
    "### Aggregation"
   ]
  },
  {
   "cell_type": "code",
   "execution_count": null,
   "metadata": {
    "collapsed": true
   },
   "outputs": [],
   "source": [
    "dse.u.mean(dim=['month', 'longitude']).plot.contourf(levels=13)\n",
    "plt.ylim([1000, 100]);"
   ]
  },
  {
   "cell_type": "markdown",
   "metadata": {},
   "source": [
    "### Masking with `.where()`"
   ]
  },
  {
   "cell_type": "code",
   "execution_count": null,
   "metadata": {
    "collapsed": true
   },
   "outputs": [],
   "source": [
    "u_avg = ds.u.mean(dim=['month', 'longitude'])\n",
    "u_avg_masked = u_avg.where(u_avg > 12)\n",
    "u_avg_masked.plot.contourf(levels=13)\n",
    "plt.ylim([1000, 100]);"
   ]
  },
  {
   "cell_type": "markdown",
   "metadata": {
    "collapsed": true,
    "deletable": true,
    "editable": true
   },
   "source": [
    "### Broadcasting\n",
    "\n",
    "<img src=\"./figures/broadcast.png\" width=\"50%\" align=\"left\"> "
   ]
  },
  {
   "cell_type": "code",
   "execution_count": null,
   "metadata": {
    "collapsed": true,
    "deletable": true,
    "editable": true
   },
   "outputs": [],
   "source": [
    "a = xr.DataArray(np.arange(3), dims='time', \n",
    "                 coords={'time':np.arange(3)})\n",
    "b = xr.DataArray(np.arange(4), dims='space', \n",
    "                 coords={'space':np.arange(4)})\n",
    "a + b"
   ]
  },
  {
   "cell_type": "markdown",
   "metadata": {
    "collapsed": true,
    "deletable": true,
    "editable": true
   },
   "source": [
    "### Alignment\n",
    "\n",
    "<img src=\"./figures/align.png\" width=\"50%\" align=\"left\"> "
   ]
  },
  {
   "cell_type": "code",
   "execution_count": null,
   "metadata": {
    "collapsed": true,
    "deletable": true,
    "editable": true
   },
   "outputs": [],
   "source": [
    "a = xr.DataArray(np.arange(3), dims='time', \n",
    "                 coords={'time':np.arange(3)})\n",
    "b = xr.DataArray(np.arange(5), dims='time', \n",
    "                 coords={'time':np.arange(5)+1})\n",
    "a + b"
   ]
  },
  {
   "cell_type": "code",
   "execution_count": null,
   "metadata": {
    "collapsed": true,
    "deletable": true,
    "editable": true
   },
   "outputs": [],
   "source": []
  },
  {
   "cell_type": "code",
   "execution_count": null,
   "metadata": {
    "collapsed": false,
    "deletable": true,
    "editable": true
   },
   "outputs": [],
   "source": []
  },
  {
   "cell_type": "markdown",
   "metadata": {
    "deletable": true,
    "editable": true
   },
   "source": [
    "You can also apply NumPy \"universal functions\" like `np.sqrt` to `DataArray` objects:"
   ]
  },
  {
   "cell_type": "code",
   "execution_count": 38,
   "metadata": {
    "collapsed": false,
    "deletable": true,
    "editable": true
   },
   "outputs": [
    {
     "data": {
      "text/plain": [
       "<xarray.DataArray 'air' (time: 2920, lat: 25, lon: 53)>\n",
       "array([[[ 15.530615,  15.572412, ...,  15.346009,  15.446682],\n",
       "        [ 15.614096,  15.636496, ...,  15.339492,  15.469324],\n",
       "        ..., \n",
       "        [ 17.201744,  17.210462, ...,  17.201744,  17.181385],\n",
       "        [ 17.213076,  17.227594, ...,  17.227594,  17.222079]],\n",
       "\n",
       "       [[ 15.559563,  15.578832, ...,  15.283979,  15.355781],\n",
       "        [ 15.60769 ,  15.6237  , ...,  15.247951,  15.352524],\n",
       "        ..., \n",
       "        [ 17.210462,  17.224982, ...,  17.190113,  17.178475],\n",
       "        [ 17.213076,  17.23949 , ...,  17.216271,  17.222079]],\n",
       "\n",
       "       ..., \n",
       "       [[ 15.677691,  15.645766, ...,  15.620179,  15.645766],\n",
       "        [ 15.807909,  15.78892 , ...,  15.57209 ,  15.629779],\n",
       "        ..., \n",
       "        [ 17.213076,  17.2392  , ...,  17.178184,  17.157797],\n",
       "        [ 17.256593,  17.273969, ...,  17.189823,  17.181094]],\n",
       "\n",
       "       [[ 15.655351,  15.629779, ...,  15.539949,  15.549598],\n",
       "        [ 15.807909,  15.78892 , ...,  15.50129 ,  15.546382],\n",
       "        ..., \n",
       "        [ 17.207266,  17.230496, ...,  17.195639,  17.181094],\n",
       "        [ 17.253695,  17.265283, ...,  17.210171,  17.195639]]])\n",
       "Coordinates:\n",
       "  * lat      (lat) float32 75.0 72.5 70.0 67.5 65.0 62.5 60.0 57.5 55.0 52.5 ...\n",
       "  * lon      (lon) float32 200.0 202.5 205.0 207.5 210.0 212.5 215.0 217.5 ...\n",
       "  * time     (time) datetime64[ns] 2013-01-01 2013-01-01T06:00:00 ..."
      ]
     },
     "execution_count": 38,
     "metadata": {},
     "output_type": "execute_result"
    }
   ],
   "source": [
    "np.sqrt(ds.air)"
   ]
  },
  {
   "cell_type": "markdown",
   "metadata": {
    "deletable": true,
    "editable": true
   },
   "source": [
    "xarray also implements standard aggregation functions:"
   ]
  },
  {
   "cell_type": "code",
   "execution_count": 39,
   "metadata": {
    "collapsed": false,
    "deletable": true,
    "editable": true
   },
   "outputs": [
    {
     "data": {
      "text/plain": [
       "<xarray.Dataset>\n",
       "Dimensions:  ()\n",
       "Data variables:\n",
       "    air      float64 317.4"
      ]
     },
     "execution_count": 39,
     "metadata": {},
     "output_type": "execute_result"
    }
   ],
   "source": [
    "ds.max()"
   ]
  },
  {
   "cell_type": "code",
   "execution_count": 44,
   "metadata": {
    "collapsed": false,
    "deletable": true,
    "editable": true
   },
   "outputs": [
    {
     "data": {
      "text/plain": [
       "<matplotlib.collections.QuadMesh at 0x134f80b8>"
      ]
     },
     "execution_count": 44,
     "metadata": {},
     "output_type": "execute_result"
    },
    {
     "data": {
      "image/png": "[encoded data removed]",
      "text/plain": [
       "<matplotlib.figure.Figure at 0x1320a080>"
      ]
     },
     "metadata": {},
     "output_type": "display_data"
    }
   ],
   "source": []
  },
  {
   "cell_type": "code",
   "execution_count": null,
   "metadata": {
    "collapsed": false,
    "deletable": true,
    "editable": true
   },
   "outputs": [],
   "source": []
  },
  {
   "cell_type": "code",
   "execution_count": 46,
   "metadata": {
    "collapsed": false,
    "deletable": true,
    "editable": true
   },
   "outputs": [
    {
     "data": {
      "text/plain": [
       "[<matplotlib.lines.Line2D at 0x157e3dd8>]"
      ]
     },
     "execution_count": 46,
     "metadata": {},
     "output_type": "execute_result"
    },
    {
     "data": {
      "image/png": "[encoded data removed]",
      "text/plain": [
       "<matplotlib.figure.Figure at 0x13494828>"
      ]
     },
     "metadata": {},
     "output_type": "display_data"
    }
   ],
   "source": [
    "ds.air.median(dim=['lat', 'lon']).plot()"
   ]
  },
  {
   "cell_type": "markdown",
   "metadata": {},
   "source": [
    "### Average everything over time"
   ]
  },
  {
   "cell_type": "code",
   "execution_count": 56,
   "metadata": {
    "collapsed": false
   },
   "outputs": [
    {
     "data": {
      "text/plain": [
       "<matplotlib.collections.QuadMesh at 0x1593d668>"
      ]
     },
     "execution_count": 56,
     "metadata": {},
     "output_type": "execute_result"
    },
    {
     "data": {
      "image/png": "[encoded data removed]",
      "text/plain": [
       "<matplotlib.figure.Figure at 0x15a54978>"
      ]
     },
     "metadata": {},
     "output_type": "display_data"
    }
   ],
   "source": [
    "ds.air.mean(dim='time')#.plot()"
   ]
  },
  {
   "cell_type": "markdown",
   "metadata": {},
   "source": [
    "### Change from Kelvin to degrees C"
   ]
  },
  {
   "cell_type": "code",
   "execution_count": 57,
   "metadata": {
    "collapsed": false
   },
   "outputs": [
    {
     "data": {
      "text/plain": [
       "<matplotlib.collections.QuadMesh at 0x165aa358>"
      ]
     },
     "execution_count": 57,
     "metadata": {},
     "output_type": "execute_result"
    },
    {
     "data": {
      "image/png": "[encoded data removed]",
      "text/plain": [
       "<matplotlib.figure.Figure at 0x163819e8>"
      ]
     },
     "metadata": {},
     "output_type": "display_data"
    }
   ],
   "source": [
    "(ds.air.mean(dim='time')-273.16)#.plot()"
   ]
  },
  {
   "cell_type": "markdown",
   "metadata": {},
   "source": [
    "Notice xarray has changed the colormap according to the dataset (borrowing logic from Seaborn).\n",
    "* With degrees C, the data passes through 0, so a diverging colormap is used\n",
    "* With Kelvin, the default colormap is used."
   ]
  },
  {
   "cell_type": "markdown",
   "metadata": {},
   "source": [
    "Outliers can sometimes washout the colormap."
   ]
  },
  {
   "cell_type": "code",
   "execution_count": 58,
   "metadata": {
    "collapsed": false
   },
   "outputs": [
    {
     "data": {
      "text/plain": [
       "<matplotlib.collections.QuadMesh at 0x168976d8>"
      ]
     },
     "execution_count": 58,
     "metadata": {},
     "output_type": "execute_result"
    },
    {
     "data": {
      "image/png": "[encoded data removed]",
      "text/plain": [
       "<matplotlib.figure.Figure at 0x163dfe10>"
      ]
     },
     "metadata": {},
     "output_type": "display_data"
    }
   ],
   "source": [
    "air_outliers = ds.air.isel(time=0).copy()\n",
    "air_outliers[0, 0] = 100\n",
    "air_outliers[-1, -1] = 400\n",
    "air_outliers.plot()"
   ]
  },
  {
   "cell_type": "code",
   "execution_count": 59,
   "metadata": {
    "collapsed": false
   },
   "outputs": [
    {
     "data": {
      "text/plain": [
       "<matplotlib.collections.QuadMesh at 0x16bc54e0>"
      ]
     },
     "execution_count": 59,
     "metadata": {},
     "output_type": "execute_result"
    },
    {
     "data": {
      "image/png": "[encoded data removed]",
      "text/plain": [
       "<matplotlib.figure.Figure at 0x16915668>"
      ]
     },
     "metadata": {},
     "output_type": "display_data"
    }
   ],
   "source": [
    "air_outliers.plot(robust=True)"
   ]
  },
  {
   "cell_type": "markdown",
   "metadata": {},
   "source": [
    "Using `robust=True` uses the 2nd and 98th percentiles of the data to compute the color limits."
   ]
  },
  {
   "cell_type": "code",
   "execution_count": null,
   "metadata": {
    "collapsed": false,
    "deletable": true,
    "editable": true
   },
   "outputs": [],
   "source": []
  },
  {
   "cell_type": "markdown",
   "metadata": {
    "deletable": true,
    "editable": true
   },
   "source": [
    "## Groupby and \"split-apply-combine\""
   ]
  },
  {
   "cell_type": "markdown",
   "metadata": {
    "deletable": true,
    "editable": true
   },
   "source": [
    "Xarray implements the \"split-apply-combine\" paradigm with `groupby`. This works really well for calculating climatologies:"
   ]
  },
  {
   "cell_type": "code",
   "execution_count": 69,
   "metadata": {
    "collapsed": false,
    "deletable": true,
    "editable": true
   },
   "outputs": [
    {
     "data": {
      "text/plain": [
       "<xarray.DataArray 'air' (season: 4)>\n",
       "array([ 273.649681,  289.204887,  278.991373,  283.028147])\n",
       "Coordinates:\n",
       "  * season   (season) object 'DJF' 'JJA' 'MAM' 'SON'"
      ]
     },
     "execution_count": 69,
     "metadata": {},
     "output_type": "execute_result"
    }
   ],
   "source": [
    "ds.air.groupby('time.season').mean()"
   ]
  },
  {
   "cell_type": "code",
   "execution_count": 73,
   "metadata": {
    "collapsed": false,
    "deletable": true,
    "editable": true
   },
   "outputs": [
    {
     "data": {
      "text/plain": [
       "<xarray.DataArray 'air' (month: 12, lat: 25, lon: 53)>\n",
       "array([[[ 246.349758,  246.385927, ...,  244.087742,  245.646532],\n",
       "        [ 248.8575  ,  248.907298, ...,  243.508468,  246.754516],\n",
       "        ..., \n",
       "        [ 296.544677,  296.47    , ...,  295.081411,  294.530161],\n",
       "        [ 297.154476,  297.238427, ...,  295.775806,  295.636774]],\n",
       "\n",
       "       [[ 246.677098,  246.405625, ...,  243.001875,  244.443661],\n",
       "        [ 247.799955,  247.759866, ...,  242.266116,  245.066429],\n",
       "        ..., \n",
       "        [ 296.787768,  296.634687, ...,  294.21808 ,  293.702768],\n",
       "        [ 297.289107,  297.216696, ...,  294.956027,  294.88    ]],\n",
       "\n",
       "       ..., \n",
       "       [[ 253.744667,  253.644875, ...,  243.934417,  245.141958],\n",
       "        [ 259.12975 ,  258.629208, ...,  243.079583,  245.466167],\n",
       "        ..., \n",
       "        [ 298.587833,  298.420292, ...,  298.194   ,  297.908333],\n",
       "        [ 298.811458,  298.856625, ...,  298.751875,  298.818958]],\n",
       "\n",
       "       [[ 247.970887,  248.020968, ...,  241.023589,  242.628065],\n",
       "        [ 249.733387,  250.160282, ...,  240.964516,  244.116008],\n",
       "        ..., \n",
       "        [ 297.468185,  297.380363, ...,  296.846694,  296.521411],\n",
       "        [ 297.880927,  297.986774, ...,  297.565403,  297.537702]]])\n",
       "Coordinates:\n",
       "  * lat      (lat) float32 75.0 72.5 70.0 67.5 65.0 62.5 60.0 57.5 55.0 52.5 ...\n",
       "  * lon      (lon) float32 200.0 202.5 205.0 207.5 210.0 212.5 215.0 217.5 ...\n",
       "  * month    (month) int64 1 2 3 4 5 6 7 8 9 10 11 12"
      ]
     },
     "execution_count": 73,
     "metadata": {},
     "output_type": "execute_result"
    }
   ],
   "source": [
    "ds.air.groupby('time.month').mean('time') #.mean()"
   ]
  },
  {
   "cell_type": "code",
   "execution_count": 74,
   "metadata": {
    "collapsed": false,
    "deletable": true,
    "editable": true
   },
   "outputs": [],
   "source": [
    "clim = ds.air.groupby('time.month').mean('time')"
   ]
  },
  {
   "cell_type": "markdown",
   "metadata": {
    "deletable": true,
    "editable": true
   },
   "source": [
    "You can also do arithmetic with groupby objects, which repeats the arithmetic over each group:"
   ]
  },
  {
   "cell_type": "code",
   "execution_count": 75,
   "metadata": {
    "collapsed": true,
    "deletable": true,
    "editable": true
   },
   "outputs": [],
   "source": [
    "anomalies = ds.groupby('time.month') - clim"
   ]
  },
  {
   "cell_type": "code",
   "execution_count": 76,
   "metadata": {
    "collapsed": false,
    "deletable": true,
    "editable": true
   },
   "outputs": [
    {
     "data": {
      "text/plain": [
       "<xarray.Dataset>\n",
       "Dimensions:  (lat: 25, lon: 53, time: 2920)\n",
       "Coordinates:\n",
       "  * lat      (lat) float32 75.0 72.5 70.0 67.5 65.0 62.5 60.0 57.5 55.0 52.5 ...\n",
       "  * lon      (lon) float32 200.0 202.5 205.0 207.5 210.0 212.5 215.0 217.5 ...\n",
       "  * time     (time) datetime64[ns] 2013-01-01 2013-01-01T06:00:00 ...\n",
       "    month    (time) int32 1 1 1 1 1 1 1 1 1 1 1 1 1 1 1 1 1 1 1 1 1 1 1 1 1 ...\n",
       "Data variables:\n",
       "    air      (time, lat, lon) float64 -5.15 -3.886 -2.715 -1.812 -1.125 ..."
      ]
     },
     "execution_count": 76,
     "metadata": {},
     "output_type": "execute_result"
    }
   ],
   "source": [
    "anomalies"
   ]
  },
  {
   "cell_type": "code",
   "execution_count": 78,
   "metadata": {
    "collapsed": false,
    "deletable": true,
    "editable": true
   },
   "outputs": [
    {
     "data": {
      "text/plain": [
       "(array([  8.40000000e+01,   9.00000000e+02,   1.14550000e+04,\n",
       "          9.76150000e+04,   5.20554000e+05,   2.67669200e+06,\n",
       "          4.67895000e+05,   8.45990000e+04,   8.75700000e+03,\n",
       "          4.49000000e+02]),\n",
       " array([-33.74080645, -27.57357258, -21.40633871, -15.23910484,\n",
       "         -9.07187097,  -2.9046371 ,   3.26259677,   9.42983065,\n",
       "         15.59706452,  21.76429839,  27.93153226]),\n",
       " <a list of 10 Patch objects>)"
      ]
     },
     "execution_count": 78,
     "metadata": {},
     "output_type": "execute_result"
    },
    {
     "data": {
      "image/png": "[encoded data removed]",
      "text/plain": [
       "<matplotlib.figure.Figure at 0x15881da0>"
      ]
     },
     "metadata": {},
     "output_type": "display_data"
    }
   ],
   "source": [
    "anomalies.air.plot() "
   ]
  },
  {
   "cell_type": "code",
   "execution_count": 81,
   "metadata": {
    "collapsed": false,
    "deletable": true,
    "editable": true
   },
   "outputs": [
    {
     "data": {
      "text/plain": [
       "(array([  1.80000000e+01,   5.23000000e+02,   4.12000000e+03,\n",
       "          1.38210000e+04,   5.81370000e+04,   5.20340000e+04,\n",
       "          1.40970000e+04,   4.67200000e+03,   8.97000000e+02,\n",
       "          8.10000000e+01]),\n",
       " array([-23.19441964, -18.54890179, -13.90338393,  -9.25786607,\n",
       "         -4.61234821,   0.03316964,   4.6786875 ,   9.32420536,\n",
       "         13.96972321,  18.61524107,  23.26075893]),\n",
       " <a list of 10 Patch objects>)"
      ]
     },
     "execution_count": 81,
     "metadata": {},
     "output_type": "execute_result"
    },
    {
     "data": {
      "image/png": "[encoded data removed]",
      "text/plain": [
       "<matplotlib.figure.Figure at 0x199b5588>"
      ]
     },
     "metadata": {},
     "output_type": "display_data"
    }
   ],
   "source": [
    "anomalies.air.sel(time= '2013-02').plot() # Find all the values for February"
   ]
  },
  {
   "cell_type": "markdown",
   "metadata": {
    "deletable": true,
    "editable": true
   },
   "source": [
    "Resample adjusts a time series to a new resolution:"
   ]
  },
  {
   "cell_type": "code",
   "execution_count": 82,
   "metadata": {
    "collapsed": true,
    "deletable": true,
    "editable": true
   },
   "outputs": [],
   "source": [
    "tmin = ds.air.resample('1D', dim='time', how='min')  # Resample to one day '1D\n",
    "tmax = ds.air.resample('1D', dim='time', how='max')"
   ]
  },
  {
   "cell_type": "code",
   "execution_count": 83,
   "metadata": {
    "collapsed": false,
    "deletable": true,
    "editable": true
   },
   "outputs": [
    {
     "data": {
      "text/plain": [
       "<xarray.DataArray 'air' (time: 730, lat: 25, lon: 53)>\n",
       "array([[[ 241.2 ,  241.8 , ...,  233.6 ,  235.8 ],\n",
       "        [ 243.6 ,  244.1 , ...,  231.5 ,  234.5 ],\n",
       "        ..., \n",
       "        [ 295.9 ,  296.2 , ...,  295.5 ,  295.1 ],\n",
       "        [ 296.29,  296.29, ...,  296.4 ,  296.6 ]],\n",
       "\n",
       "       [[ 243.2 ,  243.1 , ...,  238.8 ,  240.89],\n",
       "        [ 246.39,  245.3 , ...,  234.89,  237.2 ],\n",
       "        ..., \n",
       "        [ 296.7 ,  296.29, ...,  296.4 ,  296.1 ],\n",
       "        [ 297.5 ,  297.1 , ...,  296.5 ,  296.9 ]],\n",
       "\n",
       "       ..., \n",
       "       [[ 243.09,  243.39, ...,  245.59,  244.49],\n",
       "        [ 247.69,  248.19, ...,  242.39,  244.19],\n",
       "        ..., \n",
       "        [ 296.69,  297.39, ...,  295.99,  295.2 ],\n",
       "        [ 297.79,  298.49, ...,  295.89,  295.5 ]],\n",
       "\n",
       "       [[ 242.49,  242.39, ...,  241.49,  241.79],\n",
       "        [ 248.39,  248.79, ...,  240.29,  241.69],\n",
       "        ..., \n",
       "        [ 296.09,  296.89, ...,  295.09,  294.39],\n",
       "        [ 297.69,  298.09, ...,  295.49,  295.19]]])\n",
       "Coordinates:\n",
       "  * lat      (lat) float32 75.0 72.5 70.0 67.5 65.0 62.5 60.0 57.5 55.0 52.5 ...\n",
       "  * lon      (lon) float32 200.0 202.5 205.0 207.5 210.0 212.5 215.0 217.5 ...\n",
       "  * time     (time) datetime64[ns] 2013-01-01 2013-01-02 2013-01-03 ..."
      ]
     },
     "execution_count": 83,
     "metadata": {},
     "output_type": "execute_result"
    }
   ],
   "source": [
    "tmin"
   ]
  },
  {
   "cell_type": "code",
   "execution_count": 84,
   "metadata": {
    "collapsed": false,
    "deletable": true,
    "editable": true
   },
   "outputs": [],
   "source": [
    "ds_extremes = xr.Dataset({'tmin': tmin, 'tmax': tmax})"
   ]
  },
  {
   "cell_type": "code",
   "execution_count": 85,
   "metadata": {
    "collapsed": false,
    "deletable": true,
    "editable": true
   },
   "outputs": [
    {
     "data": {
      "text/plain": [
       "<xarray.Dataset>\n",
       "Dimensions:  (lat: 25, lon: 53, time: 730)\n",
       "Coordinates:\n",
       "  * lat      (lat) float32 75.0 72.5 70.0 67.5 65.0 62.5 60.0 57.5 55.0 52.5 ...\n",
       "  * lon      (lon) float32 200.0 202.5 205.0 207.5 210.0 212.5 215.0 217.5 ...\n",
       "  * time     (time) datetime64[ns] 2013-01-01 2013-01-02 2013-01-03 ...\n",
       "Data variables:\n",
       "    tmax     (time, lat, lon) float64 242.3 242.7 243.5 244.0 244.1 243.9 ...\n",
       "    tmin     (time, lat, lon) float64 241.2 241.8 241.8 242.1 242.6 243.3 ..."
      ]
     },
     "execution_count": 85,
     "metadata": {},
     "output_type": "execute_result"
    }
   ],
   "source": [
    "ds_extremes"
   ]
  },
  {
   "cell_type": "markdown",
   "metadata": {
    "deletable": true,
    "editable": true
   },
   "source": [
    "## Pandas\n",
    "\n",
    "[Pandas](http://pandas.pydata.org) is the best way to work with tabular data (e.g., CSV files) in Python. It's also a highly flexible data analysis tool, with way more functionality than xarray."
   ]
  },
  {
   "cell_type": "code",
   "execution_count": 42,
   "metadata": {
    "collapsed": false,
    "deletable": true,
    "editable": true,
    "scrolled": false
   },
   "outputs": [],
   "source": [
    "df = ds.to_dataframe()"
   ]
  },
  {
   "cell_type": "code",
   "execution_count": 43,
   "metadata": {
    "collapsed": false,
    "deletable": true,
    "editable": true
   },
   "outputs": [
    {
     "data": {
      "text/html": [
       "<div>\n",
       "<table border=\"1\" class=\"dataframe\">\n",
       "  <thead>\n",
       "    <tr style=\"text-align: right;\">\n",
       "      <th></th>\n",
       "      <th></th>\n",
       "      <th></th>\n",
       "      <th>air</th>\n",
       "    </tr>\n",
       "    <tr>\n",
       "      <th>lat</th>\n",
       "      <th>lon</th>\n",
       "      <th>time</th>\n",
       "      <th></th>\n",
       "    </tr>\n",
       "  </thead>\n",
       "  <tbody>\n",
       "    <tr>\n",
       "      <th rowspan=\"5\" valign=\"top\">75.0</th>\n",
       "      <th rowspan=\"5\" valign=\"top\">200.0</th>\n",
       "      <th>2013-01-01 00:00:00</th>\n",
       "      <td>241.20</td>\n",
       "    </tr>\n",
       "    <tr>\n",
       "      <th>2013-01-01 06:00:00</th>\n",
       "      <td>242.10</td>\n",
       "    </tr>\n",
       "    <tr>\n",
       "      <th>2013-01-01 12:00:00</th>\n",
       "      <td>242.30</td>\n",
       "    </tr>\n",
       "    <tr>\n",
       "      <th>2013-01-01 18:00:00</th>\n",
       "      <td>241.89</td>\n",
       "    </tr>\n",
       "    <tr>\n",
       "      <th>2013-01-02 00:00:00</th>\n",
       "      <td>243.20</td>\n",
       "    </tr>\n",
       "  </tbody>\n",
       "</table>\n",
       "</div>"
      ],
      "text/plain": [
       "                                   air\n",
       "lat  lon   time                       \n",
       "75.0 200.0 2013-01-01 00:00:00  241.20\n",
       "           2013-01-01 06:00:00  242.10\n",
       "           2013-01-01 12:00:00  242.30\n",
       "           2013-01-01 18:00:00  241.89\n",
       "           2013-01-02 00:00:00  243.20"
      ]
     },
     "execution_count": 43,
     "metadata": {},
     "output_type": "execute_result"
    }
   ],
   "source": [
    "df.head()"
   ]
  },
  {
   "cell_type": "markdown",
   "metadata": {
    "deletable": true,
    "editable": true
   },
   "source": [
    "Pandas provides very robust tools for reading and writing CSV:"
   ]
  },
  {
   "cell_type": "code",
   "execution_count": 44,
   "metadata": {
    "collapsed": false,
    "deletable": true,
    "editable": true
   },
   "outputs": [
    {
     "name": "stdout",
     "output_type": "stream",
     "text": [
      "lat,lon,time,air\n",
      "75.0,200.0,2013-01-01 00:00:00,241.2\n",
      "75.0,200.0,2013-01-01 06:00:00,242.1\n",
      "75.0,200.0,2013-01-01 12:00:00,242.3\n",
      "75.0,200.0,2013-01-01 18:00:00,241.89\n",
      "75.0,200.0,2013-01-02 00:00:00,243.2\n",
      "75.0,200.0,2013-01-02 06:00:00,244.1\n",
      "75.0,200.0,2013-01-02 12:00:00,243.3\n",
      "75.0,200.0,2013-01-02 18:00:00,243.8\n",
      "75.0,200.0,2013-01-03 00:00:00,244.8\n",
      "75.0,200.0,2013-01-03 06:00:00,243.89\n",
      "\n"
     ]
    }
   ],
   "source": [
    "print(df.head(10).to_csv())"
   ]
  },
  {
   "cell_type": "markdown",
   "metadata": {
    "deletable": true,
    "editable": true
   },
   "source": [
    "Of course, it's just as easy to convert back from pandas:"
   ]
  },
  {
   "cell_type": "code",
   "execution_count": 45,
   "metadata": {
    "collapsed": false,
    "deletable": true,
    "editable": true
   },
   "outputs": [
    {
     "data": {
      "text/plain": [
       "<xarray.Dataset>\n",
       "Dimensions:  (lat: 25, lon: 53, time: 2920)\n",
       "Coordinates:\n",
       "  * lat      (lat) float64 15.0 17.5 20.0 22.5 25.0 27.5 30.0 32.5 35.0 37.5 ...\n",
       "  * lon      (lon) float64 200.0 202.5 205.0 207.5 210.0 212.5 215.0 217.5 ...\n",
       "  * time     (time) datetime64[ns] 2013-01-01 2013-01-01T06:00:00 ...\n",
       "Data variables:\n",
       "    air      (lat, lon, time) float64 296.3 296.3 296.4 297.5 297.8 297.5 ..."
      ]
     },
     "execution_count": 45,
     "metadata": {},
     "output_type": "execute_result"
    }
   ],
   "source": [
    "xr.Dataset.from_dataframe(df)"
   ]
  },
  {
   "cell_type": "markdown",
   "metadata": {
    "deletable": true,
    "editable": true
   },
   "source": [
    "If you're using pandas 0.18 or newer, you can write `df.to_xarray()`"
   ]
  },
  {
   "cell_type": "markdown",
   "metadata": {
    "deletable": true,
    "editable": true
   },
   "source": [
    "### Things you can do with pandas"
   ]
  },
  {
   "cell_type": "code",
   "execution_count": 46,
   "metadata": {
    "collapsed": false,
    "deletable": true,
    "editable": true
   },
   "outputs": [
    {
     "data": {
      "text/html": [
       "<div>\n",
       "<table border=\"1\" class=\"dataframe\">\n",
       "  <thead>\n",
       "    <tr style=\"text-align: right;\">\n",
       "      <th></th>\n",
       "      <th>air</th>\n",
       "    </tr>\n",
       "  </thead>\n",
       "  <tbody>\n",
       "    <tr>\n",
       "      <th>count</th>\n",
       "      <td>3.869000e+06</td>\n",
       "    </tr>\n",
       "    <tr>\n",
       "      <th>mean</th>\n",
       "      <td>2.812550e+02</td>\n",
       "    </tr>\n",
       "    <tr>\n",
       "      <th>std</th>\n",
       "      <td>1.632041e+01</td>\n",
       "    </tr>\n",
       "    <tr>\n",
       "      <th>min</th>\n",
       "      <td>2.210000e+02</td>\n",
       "    </tr>\n",
       "    <tr>\n",
       "      <th>25%</th>\n",
       "      <td>2.722000e+02</td>\n",
       "    </tr>\n",
       "    <tr>\n",
       "      <th>50%</th>\n",
       "      <td>2.852000e+02</td>\n",
       "    </tr>\n",
       "    <tr>\n",
       "      <th>75%</th>\n",
       "      <td>2.946000e+02</td>\n",
       "    </tr>\n",
       "    <tr>\n",
       "      <th>max</th>\n",
       "      <td>3.174000e+02</td>\n",
       "    </tr>\n",
       "  </tbody>\n",
       "</table>\n",
       "</div>"
      ],
      "text/plain": [
       "                air\n",
       "count  3.869000e+06\n",
       "mean   2.812550e+02\n",
       "std    1.632041e+01\n",
       "min    2.210000e+02\n",
       "25%    2.722000e+02\n",
       "50%    2.852000e+02\n",
       "75%    2.946000e+02\n",
       "max    3.174000e+02"
      ]
     },
     "execution_count": 46,
     "metadata": {},
     "output_type": "execute_result"
    }
   ],
   "source": [
    "df.describe()"
   ]
  },
  {
   "cell_type": "code",
   "execution_count": 47,
   "metadata": {
    "collapsed": false,
    "deletable": true,
    "editable": true
   },
   "outputs": [
    {
     "data": {
      "text/html": [
       "<div>\n",
       "<table border=\"1\" class=\"dataframe\">\n",
       "  <thead>\n",
       "    <tr style=\"text-align: right;\">\n",
       "      <th></th>\n",
       "      <th></th>\n",
       "      <th></th>\n",
       "      <th>air</th>\n",
       "    </tr>\n",
       "    <tr>\n",
       "      <th>lat</th>\n",
       "      <th>lon</th>\n",
       "      <th>time</th>\n",
       "      <th></th>\n",
       "    </tr>\n",
       "  </thead>\n",
       "  <tbody>\n",
       "    <tr>\n",
       "      <th>65.0</th>\n",
       "      <th>322.5</th>\n",
       "      <th>2013-11-16 00:00:00</th>\n",
       "      <td>263.90</td>\n",
       "    </tr>\n",
       "    <tr>\n",
       "      <th>20.0</th>\n",
       "      <th>240.0</th>\n",
       "      <th>2014-12-17 00:00:00</th>\n",
       "      <td>296.29</td>\n",
       "    </tr>\n",
       "    <tr>\n",
       "      <th rowspan=\"2\" valign=\"top\">45.0</th>\n",
       "      <th>220.0</th>\n",
       "      <th>2014-02-14 12:00:00</th>\n",
       "      <td>281.29</td>\n",
       "    </tr>\n",
       "    <tr>\n",
       "      <th>237.5</th>\n",
       "      <th>2014-11-10 00:00:00</th>\n",
       "      <td>282.69</td>\n",
       "    </tr>\n",
       "    <tr>\n",
       "      <th>30.0</th>\n",
       "      <th>207.5</th>\n",
       "      <th>2013-10-05 00:00:00</th>\n",
       "      <td>298.00</td>\n",
       "    </tr>\n",
       "    <tr>\n",
       "      <th>70.0</th>\n",
       "      <th>285.0</th>\n",
       "      <th>2013-08-18 06:00:00</th>\n",
       "      <td>271.90</td>\n",
       "    </tr>\n",
       "    <tr>\n",
       "      <th>37.5</th>\n",
       "      <th>217.5</th>\n",
       "      <th>2014-09-11 06:00:00</th>\n",
       "      <td>294.50</td>\n",
       "    </tr>\n",
       "    <tr>\n",
       "      <th rowspan=\"2\" valign=\"top\">45.0</th>\n",
       "      <th>322.5</th>\n",
       "      <th>2014-01-19 06:00:00</th>\n",
       "      <td>287.79</td>\n",
       "    </tr>\n",
       "    <tr>\n",
       "      <th>270.0</th>\n",
       "      <th>2014-04-17 18:00:00</th>\n",
       "      <td>278.29</td>\n",
       "    </tr>\n",
       "    <tr>\n",
       "      <th>70.0</th>\n",
       "      <th>217.5</th>\n",
       "      <th>2014-09-24 00:00:00</th>\n",
       "      <td>273.00</td>\n",
       "    </tr>\n",
       "  </tbody>\n",
       "</table>\n",
       "</div>"
      ],
      "text/plain": [
       "                                   air\n",
       "lat  lon   time                       \n",
       "65.0 322.5 2013-11-16 00:00:00  263.90\n",
       "20.0 240.0 2014-12-17 00:00:00  296.29\n",
       "45.0 220.0 2014-02-14 12:00:00  281.29\n",
       "     237.5 2014-11-10 00:00:00  282.69\n",
       "30.0 207.5 2013-10-05 00:00:00  298.00\n",
       "70.0 285.0 2013-08-18 06:00:00  271.90\n",
       "37.5 217.5 2014-09-11 06:00:00  294.50\n",
       "45.0 322.5 2014-01-19 06:00:00  287.79\n",
       "     270.0 2014-04-17 18:00:00  278.29\n",
       "70.0 217.5 2014-09-24 00:00:00  273.00"
      ]
     },
     "execution_count": 47,
     "metadata": {},
     "output_type": "execute_result"
    }
   ],
   "source": [
    "df.sample(10)"
   ]
  },
  {
   "cell_type": "markdown",
   "metadata": {
    "deletable": true,
    "editable": true
   },
   "source": [
    "Statistical visualization with [Seaborn](https://stanford.edu/~mwaskom/software/seaborn/):"
   ]
  },
  {
   "cell_type": "code",
   "execution_count": 48,
   "metadata": {
    "collapsed": false,
    "deletable": true,
    "editable": true
   },
   "outputs": [
    {
     "data": {
      "text/plain": [
       "<matplotlib.axes._subplots.AxesSubplot at 0x32398ef0>"
      ]
     },
     "execution_count": 48,
     "metadata": {},
     "output_type": "execute_result"
    },
    {
     "data": {
      "image/png": "[encoded data removed]",
      "text/plain": [
       "<matplotlib.figure.Figure at 0x1d968d68>"
      ]
     },
     "metadata": {},
     "output_type": "display_data"
    }
   ],
   "source": [
    "import seaborn as sns\n",
    "\n",
    "data = (ds_extremes\n",
    "        .sel_points(lat=[41.8781, 37.7749], lon=[360-87.6298, 360-122.4194],\n",
    "                    method='nearest', tolerance=3,\n",
    "                    dim=xr.DataArray(['Chicago', 'San Francisco'],\n",
    "                                     name='location', dims='location'))\n",
    "        .to_dataframe()\n",
    "        .reset_index()\n",
    "        .assign(month=lambda x: x.time.dt.month))\n",
    "\n",
    "plt.figure(figsize=(10, 5))\n",
    "sns.violinplot('month', 'tmax', 'location', data=data, split=True, inner=None)"
   ]
  },
  {
   "cell_type": "markdown",
   "metadata": {
    "deletable": true,
    "editable": true
   },
   "source": [
    "-------------------"
   ]
  },
  {
   "cell_type": "markdown",
   "metadata": {
    "deletable": true,
    "editable": true
   },
   "source": [
    "-------------------"
   ]
  },
  {
   "cell_type": "markdown",
   "metadata": {
    "deletable": true,
    "editable": true
   },
   "source": [
    "## xarray also works for data that doesn't fit in memory"
   ]
  },
  {
   "cell_type": "markdown",
   "metadata": {
    "deletable": true,
    "editable": true
   },
   "source": [
    "Here's a quick demo of [how xarray can leverage dask](http://xarray.pydata.org/en/stable/dask.html) to work with data that doesn't fit in memory. This lets xarray substitute for tools like `cdo` and `nco`."
   ]
  },
  {
   "cell_type": "markdown",
   "metadata": {
    "deletable": true,
    "editable": true
   },
   "source": [
    "Tell dask we want to use 4 threads (one for each core we have):"
   ]
  },
  {
   "cell_type": "code",
   "execution_count": 2,
   "metadata": {
    "collapsed": false,
    "deletable": true,
    "editable": true
   },
   "outputs": [
    {
     "data": {
      "text/plain": [
       "<dask.context.set_options at 0x91d3a20>"
      ]
     },
     "execution_count": 2,
     "metadata": {},
     "output_type": "execute_result"
    }
   ],
   "source": [
    "import dask\n",
    "import glob2\n",
    "from multiprocessing.pool import ThreadPool\n",
    "\n",
    "dask.set_options(pool=ThreadPool(16))"
   ]
  },
  {
   "cell_type": "markdown",
   "metadata": {
    "deletable": true,
    "editable": true
   },
   "source": [
    "Open a bunch of netCDF files from disk using `xarray.open_mfdataset`:"
   ]
  },
  {
   "cell_type": "code",
   "execution_count": 3,
   "metadata": {
    "collapsed": false,
    "deletable": true,
    "editable": true
   },
   "outputs": [
    {
     "data": {
      "text/plain": [
       "7.052738904953003"
      ]
     },
     "execution_count": 3,
     "metadata": {},
     "output_type": "execute_result"
    }
   ],
   "source": [
    "listy = glob2.glob(\"N:\\\\Wat-Data\\\\ISI-MIP1\\\\multi-GHM_output\\\\PCRGLOBWB\\\\tmp\\\\pcrglobwb_hadgem2-es_rcp8p5_nosoc_dis_daily_203*.nc\")\n",
    "#listy.extend(glob2.glob(\"N:\\\\Wat-Data\\\\ISI-MIP1\\\\multi-GHM_output\\\\PCRGLOBWB\\\\tmp\\\\pcrglobwb_hadgem2-es_rcp8p5_nosoc_dis_daily_202*.nc\"))\n",
    "#listy.extend(glob2.glob(\"N:\\\\Wat-Data\\\\ISI-MIP1\\\\multi-GHM_output\\\\PCRGLOBWB\\\\tmp\\\\pcrglobwb_hadgem2-es_rcp8p5_nosoc_dis_daily_203*.nc\"))\n",
    "ds = xr.open_mfdataset(listy, chunks={'lon': 360},concat_dim = 'time') \n",
    "ds.nbytes * (2 **-30)  #How many gigabytes of data?"
   ]
  },
  {
   "cell_type": "code",
   "execution_count": 4,
   "metadata": {
    "collapsed": false,
    "deletable": true,
    "editable": true
   },
   "outputs": [
    {
     "data": {
      "text/plain": [
       "10"
      ]
     },
     "execution_count": 4,
     "metadata": {},
     "output_type": "execute_result"
    }
   ],
   "source": [
    "len(listy)"
   ]
  },
  {
   "cell_type": "code",
   "execution_count": 5,
   "metadata": {
    "collapsed": false,
    "deletable": true,
    "editable": true
   },
   "outputs": [
    {
     "data": {
      "text/plain": [
       "<xarray.Dataset>\n",
       "Dimensions:  (lat: 360, lon: 720, time: 3652)\n",
       "Coordinates:\n",
       "  * lon      (lon) float32 -179.75 -179.25 -178.75 -178.25 -177.75 -177.25 ...\n",
       "  * lat      (lat) float32 89.75 89.25 88.75 88.25 87.75 87.25 86.75 86.25 ...\n",
       "  * time     (time) datetime64[ns] 2018-01-01 2018-01-02 2018-01-03 ...\n",
       "Data variables:\n",
       "    dis      (time, lat, lon) float64 nan nan nan nan nan nan nan nan nan ..."
      ]
     },
     "execution_count": 5,
     "metadata": {},
     "output_type": "execute_result"
    }
   ],
   "source": [
    "ds"
   ]
  },
  {
   "cell_type": "code",
   "execution_count": 6,
   "metadata": {
    "collapsed": false,
    "deletable": true,
    "editable": true
   },
   "outputs": [
    {
     "name": "stdout",
     "output_type": "stream",
     "text": [
      "Wall time: 31 ms\n"
     ]
    }
   ],
   "source": [
    "%time ds_seasonal = ds.groupby('time.season').mean('time')"
   ]
  },
  {
   "cell_type": "code",
   "execution_count": 7,
   "metadata": {
    "collapsed": false,
    "deletable": true,
    "editable": true
   },
   "outputs": [
    {
     "name": "stderr",
     "output_type": "stream",
     "text": [
      "C:\\Anaconda2\\Lib\\site-packages\\dask\\array\\numpy_compat.py:45: RuntimeWarning: invalid value encountered in divide\n",
      "  x = np.divide(x1, x2, out)\n"
     ]
    },
    {
     "name": "stdout",
     "output_type": "stream",
     "text": [
      "Wall time: 2min 19s\n"
     ]
    }
   ],
   "source": [
    "%time ds_seasonal.to_netcdf('n:\\\\wat-data\\\\ds_seasonal2.nc')"
   ]
  },
  {
   "cell_type": "code",
   "execution_count": 8,
   "metadata": {
    "collapsed": false,
    "deletable": true,
    "editable": true
   },
   "outputs": [
    {
     "data": {
      "text/plain": [
       "<xarray.Dataset>\n",
       "Dimensions:  (lat: 360, lon: 720, season: 4)\n",
       "Coordinates:\n",
       "  * lon      (lon) float32 -179.75 -179.25 -178.75 -178.25 -177.75 -177.25 ...\n",
       "  * lat      (lat) float32 89.75 89.25 88.75 88.25 87.75 87.25 86.75 86.25 ...\n",
       "  * season   (season) object 'DJF' 'JJA' 'MAM' 'SON'\n",
       "Data variables:\n",
       "    dis      (season, lat, lon) float64 nan nan nan nan nan nan nan nan nan ..."
      ]
     },
     "execution_count": 8,
     "metadata": {},
     "output_type": "execute_result"
    }
   ],
   "source": [
    "ds_seasonal.load()"
   ]
  },
  {
   "cell_type": "code",
   "execution_count": 9,
   "metadata": {
    "collapsed": false,
    "deletable": true,
    "editable": true
   },
   "outputs": [
    {
     "data": {
      "text/plain": [
       "<xarray.plot.facetgrid.FacetGrid at 0x9667be0>"
      ]
     },
     "execution_count": 9,
     "metadata": {},
     "output_type": "execute_result"
    },
    {
     "data": {
      "image/png": "[encoded data removed]",
      "text/plain": [
       "<matplotlib.figure.Figure at 0x9667710>"
      ]
     },
     "metadata": {},
     "output_type": "display_data"
    }
   ],
   "source": [
    "(ds_seasonal['dis']\n",
    " .sel(season=['DJF', 'MAM', 'JJA', 'SON'])\n",
    " .plot(col='season', size=3, cmap='Spectral_r'))"
   ]
  },
  {
   "cell_type": "code",
   "execution_count": null,
   "metadata": {
    "collapsed": true,
    "deletable": true,
    "editable": true
   },
   "outputs": [],
   "source": [
    "dask.set_options(pool=ThreadPool(16))"
   ]
  },
  {
   "cell_type": "code",
   "execution_count": 10,
   "metadata": {
    "collapsed": false,
    "deletable": true,
    "editable": true
   },
   "outputs": [
    {
     "name": "stdout",
     "output_type": "stream",
     "text": [
      "Wall time: 47 ms\n"
     ]
    }
   ],
   "source": [
    "%time ds_month = ds.groupby('time.month').mean('time')"
   ]
  },
  {
   "cell_type": "markdown",
   "metadata": {
    "deletable": true,
    "editable": true
   },
   "source": [
    "###We can also use split-apply-combine to use our own functions in an efficient way.\n",
    "For example to calculate percentiles\n",
    "    "
   ]
  },
  {
   "cell_type": "code",
   "execution_count": 11,
   "metadata": {
    "collapsed": false,
    "deletable": true,
    "editable": true
   },
   "outputs": [
    {
     "name": "stderr",
     "output_type": "stream",
     "text": [
      "C:\\Anaconda2\\Lib\\site-packages\\numpy\\lib\\function_base.py:3834: RuntimeWarning: Invalid value encountered in percentile\n",
      "  RuntimeWarning)\n"
     ]
    },
    {
     "name": "stdout",
     "output_type": "stream",
     "text": [
      "Wall time: 7min 20s\n"
     ]
    }
   ],
   "source": [
    "def ds_pct(x):\n",
    "    pcts=[90,80,70]\n",
    "    ds_pcts=np.percentile(x,pcts,0)\n",
    "    return xr.DataArray(ds_pcts)\n",
    "dask.set_options(pool=ThreadPool(12))\n",
    "%time ds_new = ds.dis.groupby('time.month').apply(ds_pct)"
   ]
  },
  {
   "cell_type": "code",
   "execution_count": null,
   "metadata": {
    "collapsed": false,
    "deletable": true,
    "editable": true
   },
   "outputs": [],
   "source": []
  },
  {
   "cell_type": "code",
   "execution_count": 16,
   "metadata": {
    "collapsed": false,
    "deletable": true,
    "editable": true
   },
   "outputs": [
    {
     "data": {
      "text/plain": [
       "<xarray.DataArray 'dis' (time: 3652, lat: 360, lon: 720)>\n",
       "array([[[ nan, ...,  nan],\n",
       "        ..., \n",
       "        [ nan, ...,  nan]],\n",
       "\n",
       "       ..., \n",
       "       [[ nan, ...,  nan],\n",
       "        ..., \n",
       "        [ nan, ...,  nan]]])\n",
       "Coordinates:\n",
       "  * lon      (lon) float32 -179.75 -179.25 -178.75 -178.25 -177.75 -177.25 ...\n",
       "  * lat      (lat) float32 89.75 89.25 88.75 88.25 87.75 87.25 86.75 86.25 ...\n",
       "  * time     (time) datetime64[ns] 2018-01-01 2018-01-02 2018-01-03 ...\n",
       "    month    (time) int32 1 1 1 1 1 1 1 1 1 1 1 1 1 1 1 1 1 1 1 1 1 1 1 1 1 ..."
      ]
     },
     "execution_count": 16,
     "metadata": {},
     "output_type": "execute_result"
    }
   ],
   "source": [
    "ds_new"
   ]
  },
  {
   "cell_type": "code",
   "execution_count": 13,
   "metadata": {
    "collapsed": false,
    "deletable": true,
    "editable": true
   },
   "outputs": [
    {
     "data": {
      "text/plain": [
       "<xarray.Dataset>\n",
       "Dimensions:  (lat: 360, lon: 720, month: 12, pcts: 3)\n",
       "Coordinates:\n",
       "  * pcts     (pcts) int32 90 80 70\n",
       "  * lat      (lat) float32 89.75 89.25 88.75 88.25 87.75 87.25 86.75 86.25 ...\n",
       "  * lon      (lon) float32 -179.75 -179.25 -178.75 -178.25 -177.75 -177.25 ...\n",
       "  * month    (month) int64 1 2 3 4 5 6 7 8 9 10 11 12\n",
       "Data variables:\n",
       "    ds_pcts  (month, pcts, lat, lon) float64 nan nan nan nan nan nan nan nan ..."
      ]
     },
     "execution_count": 13,
     "metadata": {},
     "output_type": "execute_result"
    }
   ],
   "source": [
    "ds_new = ds_new.to_dataset(name='ds_pcts')\n",
    "ds_new.rename({'dim_0': 'pcts','dim_1': 'lat','dim_2':'lon'}, inplace=True)\n",
    "ds_new['pcts'] = [90,80,70]\n",
    "ds_new['lat'] = ds.lat\n",
    "ds_new['lon'] = ds.lon\n",
    "ds_new"
   ]
  },
  {
   "cell_type": "code",
   "execution_count": 14,
   "metadata": {
    "collapsed": false,
    "deletable": true,
    "editable": true
   },
   "outputs": [
    {
     "name": "stdout",
     "output_type": "stream",
     "text": [
      "Wall time: 7min 7s\n"
     ]
    }
   ],
   "source": [
    "def ds_sqrt(x):\n",
    "    ds_sqrs=np.sqrt(x)\n",
    "    return xr.DataArray(ds_sqrs)\n",
    "dask.set_options(pool=ThreadPool(16))\n",
    "%time ds_new = ds.dis.groupby('time.month').apply(ds_sqrt)"
   ]
  },
  {
   "cell_type": "code",
   "execution_count": 15,
   "metadata": {
    "collapsed": false,
    "deletable": true,
    "editable": true
   },
   "outputs": [
    {
     "name": "stdout",
     "output_type": "stream",
     "text": [
      "Wall time: 6min 55s\n"
     ]
    }
   ],
   "source": [
    "dask.set_options(pool=ThreadPool(32))\n",
    "%time ds_new = ds.dis.groupby('time.month').apply(ds_sqrt)"
   ]
  },
  {
   "cell_type": "code",
   "execution_count": null,
   "metadata": {
    "collapsed": true,
    "deletable": true,
    "editable": true
   },
   "outputs": [],
   "source": []
  },
  {
   "cell_type": "markdown",
   "metadata": {
    "collapsed": true,
    "deletable": true,
    "editable": true
   },
   "source": [
    "Open a dataset of powerplants"
   ]
  },
  {
   "cell_type": "markdown",
   "metadata": {
    "deletable": true,
    "editable": true
   },
   "source": [
    "For more details, read this blog post: http://continuum.io/blog/xray-dask"
   ]
  }
 ],
 "metadata": {
  "anaconda-cloud": {},
  "celltoolbar": "Raw Cell Format",
  "kernelspec": {
   "display_name": "Python [conda root]",
   "language": "python",
   "name": "conda-root-py"
  },
  "language_info": {
   "codemirror_mode": {
    "name": "ipython",
    "version": 2
   },
   "file_extension": ".py",
   "mimetype": "text/x-python",
   "name": "python",
   "nbconvert_exporter": "python",
   "pygments_lexer": "ipython2",
   "version": "2.7.12"
  }
 },
 "nbformat": 4,
 "nbformat_minor": 0
}
